{
  "metadata": {
    "language_info": {
      "codemirror_mode": {
        "name": "python",
        "version": 3
      },
      "file_extension": ".py",
      "mimetype": "text/x-python",
      "name": "python",
      "nbconvert_exporter": "python",
      "pygments_lexer": "ipython3",
      "version": "3.8"
    },
    "kernelspec": {
      "name": "python",
      "display_name": "Python (Pyodide)",
      "language": "python"
    }
  },
  "nbformat_minor": 4,
  "nbformat": 4,
  "cells": [
    {
      "cell_type": "markdown",
      "source": "<h1> Data Science Tools and Ecosystem </h1>",
      "metadata": {}
    },
    {
      "cell_type": "markdown",
      "source": "<p> In this notebook, Data Science Tools and Ecosystem are summarized. <p>",
      "metadata": {}
    },
    {
      "cell_type": "markdown",
      "source": "<strong> Objectives: </strong>\n<ul>\n    <li> List popular languages for Data Science </li>\n    <li> List popular libraries for Data Science </li>\n    <li> List popular tools for Data Science </li>\n    <li> Python examples </li>\n</ul>",
      "metadata": {}
    },
    {
      "cell_type": "markdown",
      "source": "<p> Some of the popular languages that Data Scientists use are: </p>\n<ol>\n    <li> Python </li>\n    <li> R </li>\n    <li> Java </li>\n</ol>",
      "metadata": {}
    },
    {
      "cell_type": "markdown",
      "source": "<p> Some of the commonly used libraries used by Data Scientists include: </p>\n<ol>\n    <li> pandas </li>\n    <li> matplotlib </li>\n    <li> scikit </li>\n</ol>",
      "metadata": {}
    },
    {
      "cell_type": "markdown",
      "source": "| Data Science Tools |\n| --- |\n| Jupyter notebook |\n| RStudio |\n| Apache Zeppelin |",
      "metadata": {}
    },
    {
      "cell_type": "markdown",
      "source": "<h3> Below are a few examples of evaluating arithmetic expressions in Python </h3>",
      "metadata": {}
    },
    {
      "cell_type": "code",
      "source": "# This a simple arithmetic expression to mutiply then add integers\n(3*4)+5",
      "metadata": {
        "trusted": true
      },
      "execution_count": 4,
      "outputs": [
        {
          "execution_count": 4,
          "output_type": "execute_result",
          "data": {
            "text/plain": "17"
          },
          "metadata": {}
        }
      ]
    },
    {
      "cell_type": "code",
      "source": "# This will convert 200 minutes to hours by diving by 60\n200/60",
      "metadata": {
        "trusted": true
      },
      "execution_count": 5,
      "outputs": [
        {
          "execution_count": 5,
          "output_type": "execute_result",
          "data": {
            "text/plain": "3.3333333333333335"
          },
          "metadata": {}
        }
      ]
    },
    {
      "cell_type": "markdown",
      "source": "<h2> Author </h2>\n<p> Krishna K. Aroomoogon </p>",
      "metadata": {}
    },
    {
      "cell_type": "code",
      "source": "",
      "metadata": {},
      "execution_count": null,
      "outputs": []
    }
  ]
}